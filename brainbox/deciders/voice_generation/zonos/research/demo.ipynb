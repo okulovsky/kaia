{
 "cells": [
  {
   "cell_type": "code",
   "execution_count": 1,
   "id": "ef8f852e-adbc-47e7-ad21-0cce0d5cc4b1",
   "metadata": {},
   "outputs": [
    {
     "data": {
      "application/vnd.jupyter.widget-view+json": {
       "model_id": "0445cec9f0024283ab0bf9b4cbbdd26f",
       "version_major": 2,
       "version_minor": 0
      },
      "text/plain": [
       "model.safetensors:  32%|###1      | 1.04G/3.25G [00:00<?, ?B/s]"
      ]
     },
     "metadata": {},
     "output_type": "display_data"
    },
    {
     "data": {
      "application/vnd.jupyter.widget-view+json": {
       "model_id": "71df4932d96741e39da8bf7178287d95",
       "version_major": 2,
       "version_minor": 0
      },
      "text/plain": [
       "config.json:   0%|          | 0.00/541 [00:00<?, ?B/s]"
      ]
     },
     "metadata": {},
     "output_type": "display_data"
    },
    {
     "data": {
      "application/vnd.jupyter.widget-view+json": {
       "model_id": "49d6963767bd4932a5e18f06c1817863",
       "version_major": 2,
       "version_minor": 0
      },
      "text/plain": [
       "model.safetensors:   0%|          | 0.00/307M [00:00<?, ?B/s]"
      ]
     },
     "metadata": {},
     "output_type": "display_data"
    }
   ],
   "source": [
    "import torch\n",
    "import torchaudio\n",
    "from zonos.model import Zonos\n",
    "from zonos.conditioning import make_cond_dict\n",
    "from zonos.utils import DEFAULT_DEVICE as device\n",
    "\n",
    "# model = Zonos.from_pretrained(\"Zyphra/Zonos-v0.1-hybrid\", device=device)\n",
    "model = Zonos.from_pretrained(\"Zyphra/Zonos-v0.1-transformer\", device=device)"
   ]
  },
  {
   "cell_type": "code",
   "execution_count": 7,
   "id": "2f1b0ed4-a72f-450d-b73a-aba318852c68",
   "metadata": {},
   "outputs": [],
   "source": [
    "src_path = \"/home/demo/Desktop/Zonos/assets/exampleaudio.mp3\"\n",
    "wav, sampling_rate = torchaudio.load(src_path)\n",
    "speaker = model.make_speaker_embedding(wav, sampling_rate)"
   ]
  },
  {
   "cell_type": "code",
   "execution_count": 8,
   "id": "fcf55e69-d30d-4800-869d-ea992490c468",
   "metadata": {},
   "outputs": [
    {
     "data": {
      "application/vnd.jupyter.widget-view+json": {
       "model_id": "68ce405adaa74e1db2ee6f4a538c9e9f",
       "version_major": 2,
       "version_minor": 0
      },
      "text/plain": [
       "Audio(value=b'ID3\\x04\\x00\\x00\\x00\\x00\\x03tTXXX\\x00\\x00\\x02\\x13\\x00\\x00\\x03comment\\x00This file w...', autoplay…"
      ]
     },
     "execution_count": 8,
     "metadata": {},
     "output_type": "execute_result"
    }
   ],
   "source": [
    "import ipywidgets\n",
    "\n",
    "def play(path):\n",
    "    with open(path, 'rb') as stream:\n",
    "        data = stream.read()\n",
    "    \n",
    "    return ipywidgets.Audio(value=data, autoplay=False)\n",
    "\n",
    "play(src_path)"
   ]
  },
  {
   "cell_type": "code",
   "execution_count": 9,
   "id": "d2295f16-3741-486c-b4d6-67ed5396f864",
   "metadata": {},
   "outputs": [
    {
     "name": "stderr",
     "output_type": "stream",
     "text": [
      "Generating:  17%|████▋                      | 448/2588 [00:04<00:21, 100.08it/s]\n"
     ]
    }
   ],
   "source": [
    "cond_dict = make_cond_dict(text=\"Hello, world, this is so good to see you all gathering together to learn about AI\", speaker=speaker, language=\"en-us\")\n",
    "conditioning = model.prepare_conditioning(cond_dict)\n",
    "\n",
    "codes = model.generate(conditioning)\n",
    "\n",
    "wavs = model.autoencoder.decode(codes).cpu()\n",
    "torchaudio.save(\"sample.wav\", wavs[0], model.autoencoder.sampling_rate)"
   ]
  },
  {
   "cell_type": "code",
   "execution_count": 10,
   "id": "bbcd49a2-a0d9-4a96-938f-f9ea163f0087",
   "metadata": {},
   "outputs": [
    {
     "data": {
      "application/vnd.jupyter.widget-view+json": {
       "model_id": "5e6ec616caab423a897f7e11f18cb662",
       "version_major": 2,
       "version_minor": 0
      },
      "text/plain": [
       "Audio(value=b'RIFFF\\xe0\\x06\\x00WAVEfmt \\x10\\x00\\x00\\x00\\x01\\x00\\x01\\x00D\\xac\\x00\\x00\\x88X\\x01\\x00\\x02\\x00\\x10\\…"
      ]
     },
     "execution_count": 10,
     "metadata": {},
     "output_type": "execute_result"
    }
   ],
   "source": [
    "play('sample.wav')"
   ]
  }
 ],
 "metadata": {
  "kernelspec": {
   "display_name": "Python 3 (ipykernel)",
   "language": "python",
   "name": "python3"
  },
  "language_info": {
   "codemirror_mode": {
    "name": "ipython",
    "version": 3
   },
   "file_extension": ".py",
   "mimetype": "text/x-python",
   "name": "python",
   "nbconvert_exporter": "python",
   "pygments_lexer": "ipython3",
   "version": "3.10.16"
  }
 },
 "nbformat": 4,
 "nbformat_minor": 5
}
