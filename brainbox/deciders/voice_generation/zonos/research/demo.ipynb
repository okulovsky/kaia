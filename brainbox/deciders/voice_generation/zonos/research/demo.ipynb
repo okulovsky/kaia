{
 "cells": [
  {
   "cell_type": "code",
   "execution_count": 1,
   "id": "ef8f852e-adbc-47e7-ad21-0cce0d5cc4b1",
   "metadata": {},
   "outputs": [],
   "source": [
    "import torch\n",
    "import torchaudio\n",
    "from zonos.model import Zonos\n",
    "from zonos.conditioning import make_cond_dict\n",
    "from zonos.utils import DEFAULT_DEVICE as device\n",
    "\n",
    "# model = Zonos.from_pretrained(\"Zyphra/Zonos-v0.1-hybrid\", device=device)\n",
    "model = Zonos.from_pretrained(\"Zyphra/Zonos-v0.1-transformer\", device=device)"
   ]
  },
  {
   "cell_type": "code",
   "execution_count": 2,
   "id": "2f1b0ed4-a72f-450d-b73a-aba318852c68",
   "metadata": {},
   "outputs": [],
   "source": [
    "src_path = \"lina.mp3\"\n",
    "wav, sampling_rate = torchaudio.load(src_path)\n",
    "speaker = model.make_speaker_embedding(wav, sampling_rate)"
   ]
  },
  {
   "cell_type": "code",
   "execution_count": 3,
   "id": "fcf55e69-d30d-4800-869d-ea992490c468",
   "metadata": {},
   "outputs": [
    {
     "data": {
      "application/vnd.jupyter.widget-view+json": {
       "model_id": "5740f38f95f143b2a43ccb03b82ec0b1",
       "version_major": 2,
       "version_minor": 0
      },
      "text/plain": [
       "Audio(value=b'ID3\\x04\\x00\\x00\\x00\\x00\\x00#TSSE\\x00\\x00\\x00\\x0f\\x00\\x00\\x03Lavf58.76.100\\x00\\x00\\x00\\x00\\x00\\x0…"
      ]
     },
     "execution_count": 3,
     "metadata": {},
     "output_type": "execute_result"
    }
   ],
   "source": [
    "import ipywidgets\n",
    "\n",
    "def play(path):\n",
    "    with open(path, 'rb') as stream:\n",
    "        data = stream.read()\n",
    "    \n",
    "    return ipywidgets.Audio(value=data, autoplay=False)\n",
    "\n",
    "play(src_path)"
   ]
  },
  {
   "cell_type": "code",
   "execution_count": 4,
   "id": "d2295f16-3741-486c-b4d6-67ed5396f864",
   "metadata": {},
   "outputs": [
    {
     "name": "stderr",
     "output_type": "stream",
     "text": [
      "W0223 14:13:22.523000 82 torch/_inductor/utils.py:1137] [2/0] Not enough SMs to use max_autotune_gemm mode\n",
      "Generating:  14%|█▍        | 366/2588 [00:26<02:40, 13.84it/s] \n"
     ]
    }
   ],
   "source": [
    "cond_dict = make_cond_dict(text=\"Hallo Welt! Es ist so gut euch alle zu sehen und AI besprechen.\", speaker=speaker, language=\"de\")\n",
    "conditioning = model.prepare_conditioning(cond_dict)\n",
    "\n",
    "codes = model.generate(conditioning)\n",
    "\n",
    "wavs = model.autoencoder.decode(codes).cpu()\n",
    "torchaudio.save(\"sample.wav\", wavs[0], model.autoencoder.sampling_rate)"
   ]
  },
  {
   "cell_type": "code",
   "execution_count": 5,
   "id": "bbcd49a2-a0d9-4a96-938f-f9ea163f0087",
   "metadata": {},
   "outputs": [
    {
     "data": {
      "application/vnd.jupyter.widget-view+json": {
       "model_id": "959a3af5a031406986ef482c7714ec10",
       "version_major": 2,
       "version_minor": 0
      },
      "text/plain": [
       "Audio(value=b'RIFFH0\\x0b\\x00WAVEfmt \\x10\\x00\\x00\\x00\\x03\\x00\\x01\\x00D\\xac\\x00\\x00\\x10\\xb1\\x02\\x00\\x04\\x00 \\x00…"
      ]
     },
     "execution_count": 5,
     "metadata": {},
     "output_type": "execute_result"
    }
   ],
   "source": [
    "play('sample.wav')"
   ]
  },
  {
   "cell_type": "code",
   "execution_count": 6,
   "id": "9df740c8-a6d4-452d-bdf8-0ff0f047f867",
   "metadata": {},
   "outputs": [
    {
     "data": {
      "text/plain": [
       "['huggingface', 'torch']"
      ]
     },
     "execution_count": 6,
     "metadata": {},
     "output_type": "execute_result"
    }
   ],
   "source": [
    "import os\n",
    "\n",
    "os.listdir('/home/app/.cache')"
   ]
  }
 ],
 "metadata": {
  "kernelspec": {
   "display_name": "Python 3 (ipykernel)",
   "language": "python",
   "name": "python3"
  },
  "language_info": {
   "codemirror_mode": {
    "name": "ipython",
    "version": 3
   },
   "file_extension": ".py",
   "mimetype": "text/x-python",
   "name": "python",
   "nbconvert_exporter": "python",
   "pygments_lexer": "ipython3",
   "version": "3.10.16"
  }
 },
 "nbformat": 4,
 "nbformat_minor": 5
}
