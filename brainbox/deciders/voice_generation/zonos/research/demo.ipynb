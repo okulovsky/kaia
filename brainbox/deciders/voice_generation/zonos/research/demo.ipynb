{
 "cells": [
  {
   "cell_type": "code",
   "execution_count": 1,
   "id": "ef8f852e-adbc-47e7-ad21-0cce0d5cc4b1",
   "metadata": {},
   "outputs": [
    {
     "data": {
      "application/vnd.jupyter.widget-view+json": {
       "model_id": "bea1758758bd4b669e19a09889effbca",
       "version_major": 2,
       "version_minor": 0
      },
      "text/plain": [
       "config.json:   0%|          | 0.00/2.52k [00:00<?, ?B/s]"
      ]
     },
     "metadata": {},
     "output_type": "display_data"
    },
    {
     "data": {
      "application/vnd.jupyter.widget-view+json": {
       "model_id": "cb281e2c2d8748a08671dd46ba731238",
       "version_major": 2,
       "version_minor": 0
      },
      "text/plain": [
       "model.safetensors:   0%|          | 0.00/3.25G [00:00<?, ?B/s]"
      ]
     },
     "metadata": {},
     "output_type": "display_data"
    },
    {
     "data": {
      "application/vnd.jupyter.widget-view+json": {
       "model_id": "99b151153a3b4b6b9ebeeb7f311095a5",
       "version_major": 2,
       "version_minor": 0
      },
      "text/plain": [
       "config.json:   0%|          | 0.00/541 [00:00<?, ?B/s]"
      ]
     },
     "metadata": {},
     "output_type": "display_data"
    },
    {
     "data": {
      "application/vnd.jupyter.widget-view+json": {
       "model_id": "744d9a332b6d40e2a5c5548d78caeb36",
       "version_major": 2,
       "version_minor": 0
      },
      "text/plain": [
       "model.safetensors:   0%|          | 0.00/307M [00:00<?, ?B/s]"
      ]
     },
     "metadata": {},
     "output_type": "display_data"
    }
   ],
   "source": [
    "import torch\n",
    "import torchaudio\n",
    "from zonos.model import Zonos\n",
    "from zonos.conditioning import make_cond_dict\n",
    "from zonos.utils import DEFAULT_DEVICE as device\n",
    "\n",
    "# model = Zonos.from_pretrained(\"Zyphra/Zonos-v0.1-hybrid\", device=device)\n",
    "model = Zonos.from_pretrained(\"Zyphra/Zonos-v0.1-transformer\", device=device)"
   ]
  },
  {
   "cell_type": "code",
   "execution_count": null,
   "id": "2f1b0ed4-a72f-450d-b73a-aba318852c68",
   "metadata": {},
   "outputs": [
    {
     "data": {
      "application/vnd.jupyter.widget-view+json": {
       "model_id": "f66a995922244ebfb5159e4cfd4f6430",
       "version_major": 2,
       "version_minor": 0
      },
      "text/plain": [
       "ResNet293_SimAM_ASP_base.pt:   0%|          | 0.00/397M [00:00<?, ?B/s]"
      ]
     },
     "metadata": {},
     "output_type": "display_data"
    }
   ],
   "source": [
    "src_path = \"lina.mp3\"\n",
    "wav, sampling_rate = torchaudio.load(src_path)\n",
    "speaker = model.make_speaker_embedding(wav, sampling_rate)"
   ]
  },
  {
   "cell_type": "code",
   "execution_count": null,
   "id": "fcf55e69-d30d-4800-869d-ea992490c468",
   "metadata": {},
   "outputs": [],
   "source": [
    "import ipywidgets\n",
    "\n",
    "def play(path):\n",
    "    with open(path, 'rb') as stream:\n",
    "        data = stream.read()\n",
    "    \n",
    "    return ipywidgets.Audio(value=data, autoplay=False)\n",
    "\n",
    "play(src_path)"
   ]
  },
  {
   "cell_type": "code",
   "execution_count": null,
   "id": "d2295f16-3741-486c-b4d6-67ed5396f864",
   "metadata": {},
   "outputs": [],
   "source": [
    "cond_dict = make_cond_dict(text=\"Hallo Welt! Es ist so gut euch alle zu sehen und AI besprechen.\", speaker=speaker, language=\"de\")\n",
    "conditioning = model.prepare_conditioning(cond_dict)\n",
    "\n",
    "codes = model.generate(conditioning)\n",
    "\n",
    "wavs = model.autoencoder.decode(codes).cpu()\n",
    "torchaudio.save(\"sample.wav\", wavs[0], model.autoencoder.sampling_rate)"
   ]
  },
  {
   "cell_type": "code",
   "execution_count": null,
   "id": "bbcd49a2-a0d9-4a96-938f-f9ea163f0087",
   "metadata": {},
   "outputs": [],
   "source": [
    "play('sample.wav')"
   ]
  },
  {
   "cell_type": "code",
   "execution_count": null,
   "id": "9df740c8-a6d4-452d-bdf8-0ff0f047f867",
   "metadata": {},
   "outputs": [],
   "source": [
    "import os\n",
    "\n",
    "os.listdir('/home/app/.cache')"
   ]
  }
 ],
 "metadata": {
  "kernelspec": {
   "display_name": "Python 3 (ipykernel)",
   "language": "python",
   "name": "python3"
  },
  "language_info": {
   "codemirror_mode": {
    "name": "ipython",
    "version": 3
   },
   "file_extension": ".py",
   "mimetype": "text/x-python",
   "name": "python",
   "nbconvert_exporter": "python",
   "pygments_lexer": "ipython3",
   "version": "3.10.16"
  }
 },
 "nbformat": 4,
 "nbformat_minor": 5
}
